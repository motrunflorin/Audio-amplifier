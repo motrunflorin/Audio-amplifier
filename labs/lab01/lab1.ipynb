{
  "cells": [
    {
      "cell_type": "markdown",
      "id": "L0vswS1lPBQw",
      "metadata": {
        "id": "L0vswS1lPBQw"
      },
      "source": [
        "[![Open In Colab](https://colab.research.google.com/assets/colab-badge.svg)](https://colab.research.google.com/github/ACS-IC-labs/IC-labs/blob/main/labs/lab01/lab1.ipynb)"
      ]
    },
    {
      "cell_type": "markdown",
      "id": "JTsyHhohDESv",
      "metadata": {
        "id": "JTsyHhohDESv"
      },
      "source": [
        "# Laboratorul 01 - Introducere"
      ]
    },
    {
      "cell_type": "markdown",
      "id": "v6yXaCDaDGmH",
      "metadata": {
        "id": "v6yXaCDaDGmH"
      },
      "source": [
        "## Python3 Crash Course\n",
        "\n",
        "Tutorialul poate fi găsit [aici](https://ocw.cs.pub.ro/ic/resurse/python).\n",
        "\n",
        "## Google Colab Crash Course\n",
        "\n",
        "Resurse în limba engleză pentru folosirea platformei Google Colab pot fi găsite mai jos:\n",
        "\n",
        "- [Overview of Colaboratory](https://colab.research.google.com/notebooks/basic_features_overview.ipynb)\n",
        "- [Guide to markdown](https://colab.research.google.com/notebooks/markdown_guide.ipynb)\n",
        "- [Importing libraries and installing dependencies](https://colab.research.google.com/notebooks/snippets/importing_libraries.ipynb)\n",
        "- [Saving and loading notebooks in GitHub](https://colab.research.google.com/github/googlecolab/colabtools/blob/main/notebooks/colab-github-demo.ipynb)\n",
        "- [Interactive forms](https://colab.research.google.com/notebooks/forms.ipynb)\n",
        "- [Colaboratory FAQ](https://research.google.com/colaboratory/faq.html)\n"
      ]
    },
    {
      "cell_type": "markdown",
      "id": "xHQD4F2vDLGZ",
      "metadata": {
        "id": "xHQD4F2vDLGZ"
      },
      "source": [
        "## Codificare vs Criptare\n"
      ]
    },
    {
      "cell_type": "markdown",
      "id": "fa4632e1-d84e-4566-a446-aab5a75852f8",
      "metadata": {
        "id": "fa4632e1-d84e-4566-a446-aab5a75852f8"
      },
      "source": [
        "### Codificare (engl. Encoding)\n",
        "\n",
        "-   Folosită pentru a transforma datele dintr-un format în altul\n",
        "-   În general, este folosită pentru a transfera date între sisteme\n",
        "    diferite\n",
        "-   Informația NU este păstrată secretă!!!\n",
        "-   Pentru a decodifica datele, trebuie să știm doar algoritmul utilizat\n",
        "\n",
        "### Criptare (engl. Encryption)\n",
        "\n",
        "-   Transformă datele astfel încât să păstrăm informația secretă\n",
        "-   Algoritmul utilizat este în general public, iar cheia este secretă\n",
        "-   Cuvinte cheie: text în clar (engl. plaintext), text cifrat (engl.\n",
        "    ciphertext)\n",
        "-   Tipuri: Criptare cu Cheie Privată (engl. Private-Key Encryption) vs\n",
        "    Criptare cu Cheie Publică (engl. Public-Key Encryption)\n",
        "\n",
        "În timpul laboratoarelor, va trebui să convertim datele dintr-un format\n",
        "în altul. Cele mai utilizate formate pentru păstrarea datelor sunt:\n",
        "\n",
        "-   ASCII (text)\n",
        "-   Binar (01010101)\n",
        "-   Hexazecimal \\[0-9a-fA-F\\]\n",
        "-   Base64 \\[a-zA-Z0-9\\] împreună cu '+' și '/'. În general, base64 se\n",
        "    termină cu '=' sau '==' reprezentând padding. Este foarte folosit în\n",
        "    web deoarece HTTP este un protocol de transfer text.\n",
        "\n",
        "Mai jos găsiți câteva funcții utile pentru conversii și operații de XOR\n",
        "pentru date de diferite formate:"
      ]
    },
    {
      "cell_type": "code",
      "execution_count": null,
      "id": "e8e5149b",
      "metadata": {
        "id": "e8e5149b"
      },
      "outputs": [],
      "source": [
        "import base64\n",
        "from typing import Generator\n",
        "\n",
        "\n",
        "def _pad(data: str, size: int) -> str:\n",
        "    reminder = len(data) % size\n",
        "    if reminder != 0:\n",
        "        data = \"0\" * (size - reminder) + data\n",
        "    return data\n",
        "\n",
        "\n",
        "def _chunks(data: str, chunk_size: int) -> Generator[str, None, None]:\n",
        "    data = _pad(data, chunk_size)\n",
        "    for i in range(0, len(data), chunk_size):\n",
        "        yield data[i : i + chunk_size]\n",
        "\n",
        "\n",
        "def _hex(data: int) -> str:\n",
        "    return format(data, \"02x\")\n",
        "\n",
        "\n",
        "# Conversion functions\n",
        "\n",
        "\n",
        "def hex_2_bin(data: str) -> str:\n",
        "    \"\"\"Converts a hexadecimal string to a binary representation.\n",
        "\n",
        "    Args:\n",
        "        data (str): The hexadecimal string to be converted. It should have an\n",
        "            even number of characters and only contain valid hexadecimal digits\n",
        "            (0-9, A-F, a-f).\n",
        "\n",
        "    Returns:\n",
        "        str: The binary representation of the hexadecimal string, where each\n",
        "            pair of hexadecimal digits is encoded as an 8-bit binary number.\n",
        "\n",
        "    Examples:\n",
        "        >>> hex_2_bin(\"01abcd\")\n",
        "        '000000011010101111001101'\n",
        "        >>> hex_2_bin(\"0a\")\n",
        "        '00001010'\n",
        "    \"\"\"\n",
        "    return \"\".join(f\"{int(x, 16):08b}\" for x in _chunks(data, 2))\n",
        "\n",
        "\n",
        "def bin_2_hex(data: str) -> str:\n",
        "    \"\"\"Converts a binary string to a hexadecimal representation.\n",
        "\n",
        "    Args:\n",
        "        data (str): The binary string to be converted. It should have a multiple\n",
        "            of 8 characters and only contain valid binary digits (0 or 1).\n",
        "\n",
        "    Returns:\n",
        "        str: The hexadecimal representation of the binary string, where each\n",
        "            group of 8 binary digits is encoded as a pair of hexadecimal digits.\n",
        "\n",
        "    Examples:\n",
        "        >>> bin_2_hex(\"000000011010101111001101\")\n",
        "        '01abcd'\n",
        "        >>> bin_2_hex(\"00001010\")\n",
        "        '0a'\n",
        "    \"\"\"\n",
        "    return \"\".join(f\"{int(b, 2):02x}\" for b in _chunks(data, 8))\n",
        "\n",
        "\n",
        "def str_2_bin(data: str) -> str:\n",
        "    \"\"\"Converts a string to a binary representation.\n",
        "\n",
        "    Args:\n",
        "        data (str): The string to be converted.\n",
        "\n",
        "    Returns:\n",
        "        str: The binary representation of the string, where each character is\n",
        "            encoded as an 8-bit binary number.\n",
        "\n",
        "    Examples:\n",
        "        >>> str_2_bin(\"Hello\")\n",
        "        '0100100001100101011011000110110001101111'\n",
        "        >>> str_2_bin(\"IC\")\n",
        "        '0100100101000011'\n",
        "    \"\"\"\n",
        "    return \"\".join(f\"{ord(c):08b}\" for c in data)\n",
        "\n",
        "\n",
        "def bin_2_str(data: str) -> str:\n",
        "    \"\"\"Converts a binary string to a string.\n",
        "\n",
        "    Args:\n",
        "        data (str): The binary string to be converted. It should have a multiple\n",
        "            of 8 characters and only contain valid binary digits (0 or 1).\n",
        "\n",
        "    Returns:\n",
        "        str: The string representation of the binary string, where each group\n",
        "            of 8 binary digits is decoded as a character.\n",
        "\n",
        "    Examples:\n",
        "        >>> bin_2_str(\"0100100001100101011011000110110001101111\")\n",
        "        'Hello'\n",
        "        >>> bin_2_str(\"0100100101000011\")\n",
        "        'IC'\n",
        "    \"\"\"\n",
        "    return \"\".join(chr(int(b, 2)) for b in _chunks(data, 8))\n",
        "\n",
        "\n",
        "def str_2_hex(data: str) -> str:\n",
        "    \"\"\"Converts a string to a hexadecimal representation.\n",
        "\n",
        "    Args:\n",
        "        data (str): The string to be converted.\n",
        "\n",
        "    Returns:\n",
        "        str: The hexadecimal representation of the string, where each character\n",
        "            is encoded as a pair of hexadecimal digits.\n",
        "\n",
        "    Examples:\n",
        "        >>> str_2_hex(\"Hello\")\n",
        "        '48656c6c6f'\n",
        "        >>> str_2_hex(\"IC\")\n",
        "        '4943'\n",
        "    \"\"\"\n",
        "    return \"\".join(f\"{ord(c):02x}\" for c in data)\n",
        "\n",
        "\n",
        "def hex_2_str(data: str) -> str:\n",
        "    \"\"\"Converts a hexadecimal string to a string.\n",
        "\n",
        "    Args:\n",
        "        data (str): The hexadecimal string to be converted. It should have an\n",
        "            even number of characters and only contain valid hexadecimal digits\n",
        "            (0-9, A-F, a-f).\n",
        "\n",
        "    Returns:\n",
        "        str: The string representation of the hexadecimal string, where each\n",
        "            pair of hexadecimal digits is decoded as a character.\n",
        "\n",
        "    Examples:\n",
        "        >>> hex_2_str(\"48656c6c6f\")\n",
        "        'Hello'\n",
        "        >>> hex_2_str(\"4943\")\n",
        "        'IC'\n",
        "    \"\"\"\n",
        "    return \"\".join(chr(int(x, 16)) for x in _chunks(data, 2))\n",
        "\n",
        "\n",
        "# XOR functions\n",
        "\n",
        "\n",
        "def strxor(operand_1: str, operand_2: str) -> str:\n",
        "    \"\"\"Performs a bitwise exclusive OR (XOR) operation on two strings.\n",
        "\n",
        "    Args:\n",
        "        operand_1 (str): The first string to be XORed.\n",
        "        operand_2 (str): The second string to be XORed.\n",
        "\n",
        "    Returns:\n",
        "        str: The result of the XOR operation on the two strings, where each\n",
        "            character is encoded as an 8-bit binary number. The result has\n",
        "            the same length as the shorter input string.\n",
        "\n",
        "    Examples:\n",
        "        >>> strxor(\"Hello\", \"IC\")\n",
        "        '\\\\x01&'\n",
        "        >>> strxor(\"secret\", \"key\")\n",
        "        '\\\\x18\\\\x00\\\\x1a'\n",
        "    \"\"\"\n",
        "    return \"\".join(chr(ord(x) ^ ord(y)) for (x, y) in zip(operand_1, operand_2))\n",
        "\n",
        "\n",
        "def bitxor(operand_1: str, operand_2: str) -> str:\n",
        "    \"\"\"Performs a bitwise exclusive OR (XOR) operation on two bit-strings.\n",
        "\n",
        "    Args:\n",
        "        operand_1 (str): The first bit-string to be XORed. It should only\n",
        "            contain valid binary digits (0 or 1).\n",
        "        operand_2 (str): The second bit-string to be XORed. It should only\n",
        "            contain valid binary digits (0 or 1).\n",
        "\n",
        "    Returns:\n",
        "        str: The result of the XOR operation on the two bit-strings, where each\n",
        "            bit is encoded as a character. The result has the same length as\n",
        "            the shorter input bit-string.\n",
        "\n",
        "    Examples:\n",
        "        >>> bitxor(\"01001000\", \"01000010\")\n",
        "        '00001010'\n",
        "        >>> bitxor(\"10101010\", \"00110011\")\n",
        "        '10011001'\n",
        "    \"\"\"\n",
        "    return \"\".join(str(int(x) ^ int(y)) for (x, y) in zip(operand_1, operand_2))\n",
        "\n",
        "\n",
        "def hexxor(operand_1: str, operand_2: str) -> str:\n",
        "    \"\"\"Performs a bitwise exclusive OR (XOR) operation on two hexadecimal\n",
        "    strings.\n",
        "\n",
        "    Args:\n",
        "        operand_1 (str): The first hexadecimal string to be XORed. It should\n",
        "            have an even number of characters and only contain valid hexadecimal\n",
        "            digits (0-9, A-F, a-f).\n",
        "        operand_2 (str): The second hexadecimal string to be XORed. It should\n",
        "            have an even number of characters and only contain valid\n",
        "            digits (0-9, A-F, a-f).\n",
        "\n",
        "    Returns:\n",
        "        str: The result of the XOR operation on the two hexadecimal strings,\n",
        "            where each pair of hexadecimal digits is encoded as a pair of\n",
        "            hexadecimal digits. The result has the same length as the shorter\n",
        "            input hexadecimal string.\n",
        "\n",
        "    Examples:\n",
        "        >>> hexxor(\"48656c6c6f\", \"42696e67\")\n",
        "        '0a0c020b'\n",
        "        >>> hexxor(\"736563726574\", \"6b6579\")\n",
        "        '18001a'\n",
        "    \"\"\"\n",
        "    return \"\".join(\n",
        "        _hex(int(x, 16) ^ int(y, 16))\n",
        "        for (x, y) in zip(_chunks(operand_1, 2), _chunks(operand_2, 2))\n",
        "    )\n",
        "\n",
        "\n",
        "# Python3 'bytes' functions\n",
        "\n",
        "\n",
        "def bytes_to_string(bytes_data: bytearray | bytes) -> str:\n",
        "    \"\"\"Converts a byte array or a byte string to a string.\n",
        "\n",
        "    Args:\n",
        "        bytes_data (bytearray | bytes): The byte array or the byte string to be\n",
        "            converted. It should be encoded in Latin-1 format.\n",
        "\n",
        "    Returns:\n",
        "        str: The string representation of the byte array or the byte string,\n",
        "            decoded using Latin-1 encoding.\n",
        "\n",
        "    Examples:\n",
        "        >>> bytes_to_string(b'Hello')\n",
        "        'Hello'\n",
        "        >>> bytes_to_string(bytearray(b'IC'))\n",
        "        'IC'\n",
        "    \"\"\"\n",
        "    return bytes_data.decode(encoding=\"raw_unicode_escape\")\n",
        "\n",
        "\n",
        "def string_to_bytes(string_data: str) -> bytes:\n",
        "    \"\"\"Converts a string to a byte string.\n",
        "\n",
        "    Args:\n",
        "        string_data (str): The string to be converted.\n",
        "\n",
        "    Returns:\n",
        "        bytes: The byte string representation of the string, encoded using\n",
        "        Latin-1 encoding.\n",
        "\n",
        "    Examples:\n",
        "        >>> string_to_bytes('Hello')\n",
        "        b'Hello'\n",
        "        >>> string_to_bytes('IC')\n",
        "        b'IC'\n",
        "    \"\"\"\n",
        "    return string_data.encode(encoding=\"raw_unicode_escape\")\n",
        "\n",
        "\n",
        "# Base64 functions\n",
        "\n",
        "\n",
        "def b64encode(data: str) -> str:\n",
        "    \"\"\"Encodes a string to base64.\n",
        "\n",
        "    Parameters:\n",
        "        data (str): The string to be encoded.\n",
        "\n",
        "    Returns:\n",
        "        str: The base64 encoded string, using Latin-1 encoding.\n",
        "\n",
        "    Examples:\n",
        "        >>> b64encode(\"Hello\")\n",
        "        'SGVsbG8='\n",
        "        >>> b64encode(\"IC\")\n",
        "        'SUM='\n",
        "    \"\"\"\n",
        "    return bytes_to_string(base64.b64encode(string_to_bytes(data)))\n",
        "\n",
        "\n",
        "def b64decode(data: str) -> str:\n",
        "    \"\"\"Decodes a base64 encoded string.\n",
        "\n",
        "    Args:\n",
        "        data (str): The base64 encoded string to be decoded. It should only\n",
        "            contain valid base64 characters (A-Z, a-z, 0-9, +, /, =).\n",
        "\n",
        "    Returns:\n",
        "        str: The decoded string, using Latin-1 encoding.\n",
        "\n",
        "    Examples:\n",
        "        >>> b64decode(\"SGVsbG8=\")\n",
        "        'Hello'\n",
        "        >>> b64decode(\"SUM=\")\n",
        "        'IC'\n",
        "    \"\"\"\n",
        "    return bytes_to_string(base64.b64decode(string_to_bytes(data)))"
      ]
    },
    {
      "cell_type": "markdown",
      "id": "fc3721e1",
      "metadata": {
        "id": "fc3721e1"
      },
      "source": [
        "#### Bytes în Python\n",
        "\n",
        "Să considerăm exemplele de mai jos:"
      ]
    },
    {
      "cell_type": "code",
      "execution_count": null,
      "id": "0ec0b410",
      "metadata": {
        "id": "0ec0b410"
      },
      "outputs": [],
      "source": [
        "text1 = \"Ana are mere\"\n",
        "text2 = b\"Ana are mere\"\n",
        "print(type(text1))  # <class 'str'>\n",
        "print(type(text2))  # <class 'bytes'>"
      ]
    },
    {
      "cell_type": "markdown",
      "id": "e51f4954",
      "metadata": {
        "id": "e51f4954"
      },
      "source": [
        "Ambele variabile stochează aceeași informație. Diferența constă în modul\n",
        "cum sunt păstrate datele intern, cele două texte fiind codificate în 2\n",
        "obiecte de tipuri diferite (string și bytes). În timpul laboratoarelor\n",
        "vom lucra de foarte multe ori cu tipul string, dar unele biblioteci\n",
        "externe pot necesita transformarea datelor din formatul string în\n",
        "formatul bytes."
      ]
    },
    {
      "cell_type": "markdown",
      "id": "5d9559b4",
      "metadata": {
        "id": "5d9559b4"
      },
      "source": [
        "### Exercițiul #1 - Encoding is nice (2p)\n",
        "\n",
        "Decodificați următoarele stringuri:"
      ]
    },
    {
      "cell_type": "code",
      "execution_count": null,
      "id": "330786f9",
      "metadata": {
        "id": "330786f9"
      },
      "outputs": [],
      "source": [
        "C1 = \"010101100110000101101100011010000110000101101100011011000110000100100001\"\n",
        "C2 = \"526f636b2c2050617065722c2053636973736f727321\"\n",
        "C3 = \"WW91IGRvbid0IG5lZWQgYSBrZXkgdG8gZW5jb2RlIGRhdGEu\"\n",
        "\n",
        "# TODO: Decode the strings\n",
        "P1 = bin_2_str(C1)\n",
        "P2 = hex_2_str(C2)\n",
        "P3 = b64decode(C3)\n",
        "\n",
        "print(\"P1 = \", P1)\n",
        "print(\"P2 = \", P2)\n",
        "print(\"P3 = \", P3)"
      ]
    },
    {
      "cell_type": "markdown",
      "id": "cd37f040",
      "metadata": {
        "id": "cd37f040"
      },
      "source": [
        "### Exercițiul #2 - But XOR-ing is cool (2p)\n",
        "\n",
        "Găsiți mesajele în clar pentru următoarele ciphertexturi, știind că\n",
        "cifrul este operația XOR (ciphertext = plaintext XOR key), iar cheia\n",
        "este \"abcdefghijkl\"."
      ]
    },
    {
      "cell_type": "code",
      "execution_count": null,
      "id": "52d82f34",
      "metadata": {
        "id": "52d82f34"
      },
      "outputs": [],
      "source": [
        "C1 = \"000100010001000000001100000000110001011100000111000010100000100100011101000001010001100100000101\"\n",
        "C2 = \"02030F07100A061C060B1909\"\n",
        "\n",
        "key = \"abcdefghijkl\"\n",
        "\n",
        "# TODO: Compute P1 and P2, from C1 and C2 respectively, using the key \"abcdefghijkl\"\n",
        "P1 = strxor(bin_2_str(C1),key)\n",
        "P2 = strxor(hex_2_str(C2),key)\n",
        "\n",
        "print(\"P1 = \", P1)\n",
        "print(\"P2 = \", P2)"
      ]
    },
    {
      "cell_type": "markdown",
      "id": "EfQSpHOyLcfp",
      "metadata": {
        "id": "EfQSpHOyLcfp"
      },
      "source": [
        "## Hail, Caesar!"
      ]
    },
    {
      "cell_type": "markdown",
      "id": "25c14da7",
      "metadata": {
        "id": "25c14da7"
      },
      "source": [
        "Unul dintre cele mai cunoscute și mai simple scheme de criptare este\n",
        "[Cifrul lui Cezar](https://en.wikipedia.org/wiki/Caesar_cipher). Ideea\n",
        "de bază este de a transforma fiecare literă din plaintext prin\n",
        "deplasarea la stânga a poziției literei curente cu trei poziții. Cu alte\n",
        "cuvinte, A devine D, B devine E, C devine F, și așa mai departe.\n",
        "Operația de criptare a unei litere $m$ este definită prin relația\n",
        "$Enc(m) = (m + 3) \\mod 26 $. Analog, pentru a decripta un text,\n",
        "trebuie să facem deplasarea la dreapta cu 3 poziții. Deci, operația de\n",
        "decriptare pentru fiecare literă $c$ dintr-un ciphertext este dată de\n",
        "relația $Dec(c) = (c - 3) \\mod 26$."
      ]
    },
    {
      "cell_type": "markdown",
      "id": "3c5ae0f4",
      "metadata": {
        "id": "3c5ae0f4"
      },
      "source": [
        "### Criptarea unei litere\n",
        "\n",
        "Să începem cu un exemplu simplu:"
      ]
    },
    {
      "cell_type": "code",
      "execution_count": null,
      "id": "8dcb9a24",
      "metadata": {
        "id": "8dcb9a24"
      },
      "outputs": [],
      "source": [
        "ALPHABET = \"ABCDEFGHIJKLMNOPQRSTUVWXYZ\"\n",
        "\n",
        "\n",
        "def caesar_enc(letter: str) -> str:\n",
        "    if not \"A\" <= letter <= \"Z\":\n",
        "        raise ValueError(\"Invalid letter\")\n",
        "    return ALPHABET[(ord(letter) - ord(\"A\") + 3) % len(ALPHABET)]"
      ]
    },
    {
      "cell_type": "markdown",
      "id": "IXbNihRdTS11",
      "metadata": {
        "id": "IXbNihRdTS11"
      },
      "source": [
        "Testați următoarele comenzi:\n",
        "\n",
        "``` python\n",
        "print(ALPHABET)\n",
        "len(ALPHABET)\n",
        "ALPHABET[0]\n",
        "ord(\"A\")\n",
        "ord(\"D\") - ord(\"A\")\n",
        "26 % 26\n",
        "28 % 26\n",
        "-1 % 26\n",
        "```"
      ]
    },
    {
      "cell_type": "code",
      "execution_count": null,
      "id": "Ty4DNG-oaEO9",
      "metadata": {
        "id": "Ty4DNG-oaEO9"
      },
      "outputs": [],
      "source": [
        "# TODO: Print the output of each command, on different cells\n"
      ]
    },
    {
      "cell_type": "markdown",
      "id": "M4Jlkxzxba8E",
      "metadata": {
        "id": "M4Jlkxzxba8E"
      },
      "source": [
        "Testați funcția de criptare pe câteva exemple:\n",
        "\n",
        "``` python\n",
        "caesar_enc(\"D\")\n",
        "caesar_enc(\"Z\")\n",
        "caesar_enc(\"B\")\n",
        "```"
      ]
    },
    {
      "cell_type": "code",
      "execution_count": null,
      "id": "R20DdSS6bbqC",
      "metadata": {
        "id": "R20DdSS6bbqC"
      },
      "outputs": [],
      "source": [
        "# TODO: Print the output of each command, on different cells\n",
        "caesar_enc(\"D\")\n"
      ]
    },
    {
      "cell_type": "code",
      "source": [
        "caesar_enc(\"Z\")\n"
      ],
      "metadata": {
        "id": "7Nn3dKzpSJ3k"
      },
      "id": "7Nn3dKzpSJ3k",
      "execution_count": null,
      "outputs": []
    },
    {
      "cell_type": "code",
      "source": [
        "caesar_enc(\"B\")"
      ],
      "metadata": {
        "id": "WtBXV20qSLh8"
      },
      "id": "WtBXV20qSLh8",
      "execution_count": null,
      "outputs": []
    },
    {
      "cell_type": "markdown",
      "id": "3f323f97",
      "metadata": {
        "id": "3f323f97"
      },
      "source": [
        "#### Exercițiul #3 - Decriptarea unei litere (2p)\n",
        "\n",
        "Adăugați o funcție `caesar_dec` care decriptează\n",
        "o singură literă criptată folosind cifrul lui Cezar."
      ]
    },
    {
      "cell_type": "markdown",
      "id": "0sC9JunIQpFU",
      "metadata": {
        "id": "0sC9JunIQpFU"
      },
      "source": [
        ">Implementarea funcției de decriptare este similară cu cea a\n",
        "funcției de criptare. Diferă doar relația matematică (vedeți începutul secțiunii `Hail, Caesar!`)."
      ]
    },
    {
      "cell_type": "code",
      "execution_count": null,
      "id": "6b158a05",
      "metadata": {
        "id": "6b158a05"
      },
      "outputs": [],
      "source": [
        "# TODO: Implement `caesar_dec(letter: str) -> str`\n",
        "\n",
        "def caesar_dec(letter: str) -> str:\n",
        "    if not \"A\" <= letter <= \"Z\":\n",
        "        raise ValueError(\"Invalid letter\")\n",
        "    return ALPHABET[(ord(letter) - ord(\"A\") - 3) % len(ALPHABET)]\n"
      ]
    },
    {
      "cell_type": "markdown",
      "id": "620faf15",
      "metadata": {
        "id": "620faf15"
      },
      "source": [
        "Testați că ați implementat corect:"
      ]
    },
    {
      "cell_type": "code",
      "execution_count": null,
      "id": "9bac16fd",
      "metadata": {
        "id": "9bac16fd"
      },
      "outputs": [],
      "source": [
        "# TODO: Test your implementation here\n",
        "caesar_dec(\"E\")\n"
      ]
    },
    {
      "cell_type": "markdown",
      "id": "L-na15mJQCS7",
      "metadata": {
        "id": "L-na15mJQCS7"
      },
      "source": [
        "#### Criptarea unui string\n",
        "\n",
        "Vom extinde funcția definită anterior pentru a permite primirea unui\n",
        "string ca parametru."
      ]
    },
    {
      "cell_type": "code",
      "execution_count": null,
      "id": "085f23c8",
      "metadata": {
        "id": "085f23c8"
      },
      "outputs": [],
      "source": [
        "def caesar_enc_string(plaintext: str) -> str:\n",
        "    ciphertext = \"\"\n",
        "    for letter in plaintext:\n",
        "        ciphertext += caesar_enc(letter)\n",
        "    return ciphertext"
      ]
    },
    {
      "cell_type": "markdown",
      "id": "51c5346b",
      "metadata": {
        "id": "51c5346b"
      },
      "source": [
        "Testați codul de mai sus:"
      ]
    },
    {
      "cell_type": "code",
      "execution_count": null,
      "id": "zm1l-vQVeYC6",
      "metadata": {
        "id": "zm1l-vQVeYC6"
      },
      "outputs": [],
      "source": [
        "test = \"HELLO\"\n",
        "test += \"WORLD\"\n",
        "caesar_enc_string(test)"
      ]
    },
    {
      "cell_type": "markdown",
      "id": "XE4HhklHeQI_",
      "metadata": {
        "id": "XE4HhklHeQI_"
      },
      "source": [
        "O altă modalitate de a rula diverse lucruri în Python, care\n",
        "poate fi foarte folositoare în general, este de a folosi o funcție\n",
        "`main()` și să avem un script precum cel de mai jos:\n",
        "``` python\n",
        "ALPHABET = \"ABCDEFGHIJKLMNOPQRSTUVWXYZ\"\n",
        "\n",
        "\n",
        "def caesar_enc(letter: str) -> str:\n",
        "    if not 'A' <= letter <= 'Z':\n",
        "        raise ValueError('Invalid letter')\n",
        "    return ALPHABET[(ord(letter) - ord('A') + 3) % len(ALPHABET)]\n",
        "\n",
        "\n",
        "def caesar_enc_string(plaintext: str) -> str:\n",
        "    ciphertext = \"\"\n",
        "    for letter in plaintext:\n",
        "        ciphertext += caesar_enc(letter)\n",
        "    return ciphertext\n",
        "\n",
        "\n",
        "def main() -> None:\n",
        "    m = \"BINEATIVENIT\"\n",
        "    c = caesar_enc_string(m)\n",
        "    print(c)\n",
        "\n",
        "\n",
        "if __name__ == \"__main__\":\n",
        "    main()\n",
        "```"
      ]
    },
    {
      "cell_type": "markdown",
      "id": "sNSqNIKvD7aU",
      "metadata": {
        "id": "sNSqNIKvD7aU"
      },
      "source": [
        "**Notă:** În Colab, putem pune `%%writefile` pe prima linie, pt a crea un fișier nou (în cazul nostru `test_caesar.py`) conținând codul începând cu a doua linie din celulă."
      ]
    },
    {
      "cell_type": "code",
      "execution_count": null,
      "id": "e4c2748e",
      "metadata": {
        "id": "e4c2748e"
      },
      "outputs": [],
      "source": [
        "%%writefile test_caesar.py\n",
        "ALPHABET = \"ABCDEFGHIJKLMNOPQRSTUVWXYZ\"\n",
        "\n",
        "\n",
        "def caesar_enc(letter: str) -> str:\n",
        "    if not 'A' <= letter <= 'Z':\n",
        "        raise ValueError('Invalid letter')\n",
        "    return ALPHABET[(ord(letter) - ord('A') + 3) % len(ALPHABET)]\n",
        "\n",
        "\n",
        "def caesar_enc_string(plaintext: str) -> str:\n",
        "    ciphertext = \"\"\n",
        "    for letter in plaintext:\n",
        "        ciphertext += caesar_enc(letter)\n",
        "    return ciphertext\n",
        "\n",
        "\n",
        "def main() -> None:\n",
        "    m = \"BINEATIVENIT\"\n",
        "    c = caesar_enc_string(m)\n",
        "    print(c)\n",
        "\n",
        "\n",
        "if __name__ == \"__main__\":\n",
        "    main()"
      ]
    },
    {
      "cell_type": "markdown",
      "id": "d3b08616",
      "metadata": {
        "id": "d3b08616"
      },
      "source": [
        "Apoi, puteți rula programul dintr-un terminal folosind:\n",
        "\n",
        "``` shell\n",
        "python test_caesar.py\n",
        "```\n",
        "\n",
        "**Notă:** În Colab, puteți folosi `!` pentru a rula comenzi bash."
      ]
    },
    {
      "cell_type": "code",
      "execution_count": null,
      "id": "3IzPu7VHasEj",
      "metadata": {
        "id": "3IzPu7VHasEj"
      },
      "outputs": [],
      "source": [
        "!ls\n",
        "!python test_caesar.py"
      ]
    },
    {
      "cell_type": "markdown",
      "id": "yvfiQQX7BaDC",
      "metadata": {
        "id": "yvfiQQX7BaDC"
      },
      "source": [
        "### Exercițiul #4 - Decriptarea unui string (2p)\n",
        "\n",
        "Scrieți funcția de decriptare numită `caesar_dec_string`.\n"
      ]
    },
    {
      "cell_type": "code",
      "execution_count": null,
      "id": "dYoqLVAzBdML",
      "metadata": {
        "id": "dYoqLVAzBdML"
      },
      "outputs": [],
      "source": [
        "# TODO: Implement `caesar_dec_string(ciphertext: str) -> str`\n",
        "\n",
        "def caesar_dec_string(ciphertext: str) -> str:\n",
        "    plaintext = \"\"\n",
        "    for letter in ciphertext:\n",
        "        plaintext += caesar_dec(letter)\n",
        "    return plaintext\n"
      ]
    },
    {
      "cell_type": "markdown",
      "id": "3d98773b",
      "metadata": {
        "id": "3d98773b"
      },
      "source": [
        "Testați că ați implementat corect:"
      ]
    },
    {
      "cell_type": "code",
      "execution_count": null,
      "id": "4b46de46",
      "metadata": {
        "id": "4b46de46"
      },
      "outputs": [],
      "source": [
        "# TODO: Test your implementation here\n",
        "\n",
        "encrypted_str = \"KHOORZRUOG\"\n",
        "decrypted_str = caesar_dec_string(encrypted_str)\n",
        "print(f\" {encrypted_str=}, {decrypted_str=}\")\n"
      ]
    },
    {
      "cell_type": "markdown",
      "id": "b9fb0cee",
      "metadata": {
        "id": "b9fb0cee"
      },
      "source": [
        "### Shift ciphers\n",
        "\n",
        "Așa cum am văzut mai sus, Cifrul lui Cezar folosește o cheie fixată\n",
        "$k=3$. Putem însă generaliza pe mai multe valori ale cheii (adică, în\n",
        "cazul alfabetului englez, putem avea valori de la 0 la 25). Această\n",
        "modalitate de criptare este numită Shift Cipher. Pentru a cripta un\n",
        "mesaj, pentru fiecare literă aplicăm $Enc(m, k) = (m + k) \\mod 26$,\n",
        "iar pentru decriptare, folosim $Dec(c, k) = (c - k) \\mod 26$.\n",
        "\n",
        "Python ne permite să pasăm valori implicite ca parametri. Putem folosi\n",
        "valori implicite pentru a extinde funcția noastră `caesar_enc` astfel\n",
        "încât să permită primirea cheii ca un parametru adițional, fără a afecta\n",
        "compatibilitatea cu codul anterior."
      ]
    },
    {
      "cell_type": "code",
      "execution_count": null,
      "id": "e2ec1a3d",
      "metadata": {
        "id": "e2ec1a3d"
      },
      "outputs": [],
      "source": [
        "def caesar_enc(letter: str, k: int = 3) -> str:\n",
        "    if not \"A\" <= letter <= \"Z\":\n",
        "        raise ValueError(\"Invalid letter\")\n",
        "    return ALPHABET[(ord(letter) - ord(\"A\") + k) % len(ALPHABET)]\n",
        "\n",
        "\n",
        "def caesar_enc_string(plaintext: str, k: int = 3) -> str:\n",
        "    ciphertext = \"\"\n",
        "    for letter in plaintext:\n",
        "        ciphertext += caesar_enc(letter, k)\n",
        "    return ciphertext"
      ]
    },
    {
      "cell_type": "markdown",
      "id": "2477357a",
      "metadata": {
        "id": "2477357a"
      },
      "source": [
        "Pentru a testa noile funcții, încercați comenzile de mai jos:\n",
        "\n",
        "``` Python\n",
        "caesar_enc_string(\"HELLO\")       # use the default value for k\n",
        "caesar_enc_string(\"HELLO\", 0)    # pass the key as a positional argument\n",
        "caesar_enc_string(\"HELLO\", k=1)  # pass the key as a keyword (named) argument\n",
        "```"
      ]
    },
    {
      "cell_type": "code",
      "execution_count": null,
      "id": "6qwYqVarARPP",
      "metadata": {
        "id": "6qwYqVarARPP"
      },
      "outputs": [],
      "source": [
        "# TODO: Print the output of each command, on different cells\n",
        "caesar_enc_string(\"HELLO\")\n"
      ]
    },
    {
      "cell_type": "code",
      "source": [
        "caesar_enc_string(\"HELLO\", 0)"
      ],
      "metadata": {
        "id": "rF_0m0J4U13G"
      },
      "id": "rF_0m0J4U13G",
      "execution_count": null,
      "outputs": []
    },
    {
      "cell_type": "code",
      "source": [
        "caesar_enc_string(\"HELLO\", k=1)"
      ],
      "metadata": {
        "id": "hUJBZDLQU4FN"
      },
      "id": "hUJBZDLQU4FN",
      "execution_count": null,
      "outputs": []
    },
    {
      "cell_type": "markdown",
      "id": "64580d60",
      "metadata": {
        "id": "64580d60"
      },
      "source": [
        "### Exercițiul #5 - Shift Ciphers (2p)\n",
        "\n",
        "Folosind valori implicite, extindeți funcția `caesar_dec_string`\n",
        "pentru a decripta mesaje criptate cu shift cipher, astfel încât să\n",
        "suporte chei arbitrare.\n"
      ]
    },
    {
      "cell_type": "code",
      "execution_count": null,
      "id": "GPMzKnToAg4x",
      "metadata": {
        "id": "GPMzKnToAg4x"
      },
      "outputs": [],
      "source": [
        "# TODO: Implement `caesar_dec_string(plaintext: str, k: int = 3) -> str` that allows any arbitrary key\n",
        "\n",
        "def caesar_dec_string(ciphertext: str, k: int = 3) -> str:\n",
        "    plaintext = \"\"\n",
        "    for letter in ciphertext:\n",
        "        if not \"A\" <= letter <= \"Z\":\n",
        "            raise ValueError(\"Invalid letter\")\n",
        "        plaintext += ALPHABET[(ord(letter) - ord(\"A\") - k) % len(ALPHABET)]\n",
        "    return plaintext\n"
      ]
    },
    {
      "cell_type": "markdown",
      "id": "3a22dddf",
      "metadata": {
        "id": "3a22dddf"
      },
      "source": [
        "Testați că ați implementat corect:"
      ]
    },
    {
      "cell_type": "code",
      "execution_count": null,
      "id": "15962f2d",
      "metadata": {
        "id": "15962f2d"
      },
      "outputs": [],
      "source": [
        "# TODO: Test your implementation here\n",
        "caesar_dec_string(\"IFMMP\",1)\n"
      ]
    },
    {
      "cell_type": "markdown",
      "id": "NTZgg7hyEbEM",
      "metadata": {
        "id": "NTZgg7hyEbEM"
      },
      "source": [
        "## Bonus - Many-Time Pad (2p)\n"
      ]
    },
    {
      "cell_type": "markdown",
      "id": "uu3xtatANhly",
      "metadata": {
        "id": "uu3xtatANhly"
      },
      "source": [
        "**Notă:** Acest exercițiu nu poate fi rulat în Colab folosind utilitarul menționat mai jos, întrucât este necesară o interfață CLI, pe care Colab nu o oferă în versiunea gratuită. Recomandăm utilizarea calculatoarelor din laborator sau a celor personale."
      ]
    },
    {
      "cell_type": "markdown",
      "id": "BNrZh_s4vVC_",
      "metadata": {
        "id": "BNrZh_s4vVC_"
      },
      "source": [
        "\n",
        "OTP (One Time Pad) este o tehnică de criptare care lucrează pe streamuri\n",
        "de date (adica, este un stream cipher). In OTP, mesajul și cheia trebuie\n",
        "să aibă aceeași dimensiune în număr de biți, iar algoritmul de criptare\n",
        "este operația XOR: $OTP(k, m) = k \\oplus m$.\n",
        "\n",
        "Avantajul folosirii OTP este dată de proprietatea de perfect secrecy:\n",
        "atâta timp cât nu cunoaștem cheia de criptare, un ciphertext poate\n",
        "corespunde oricărui mesaj posibil, cu aceeași probabilitate. Cu alte\n",
        "cuvinte, dacă avem acces la un ciphertext criptat cu OTP, nu putem ști\n",
        "care este mesajul din spate, fără a-l decripta. Această proprietate nu\n",
        "mai este adevărată în cazul în care folosim cheia de mai multe ori (de\n",
        "unde și numele de one-time pad).\n",
        "\n",
        "Ideea de atac din spatele many-time pad (MTP) se bazează pe faptul că\n",
        "dacă $C1 = K \\oplus M1$, iar $C2 = K \\oplus M2$, atunci $C1 \\oplus\n",
        "C2 = K \\oplus M1 \\oplus K \\oplus M2 = M1 \\oplus M2$. Cum vă poate ajuta\n",
        "această observație în a sparge MTP?\n",
        "\n",
        "\n",
        "> Simbolul $\\oplus$ reprezintă operația XOR.\n",
        "\n",
        "Decriptați ultimul ciphertext știind că toate mesajele au fost criptate\n",
        "cu aceeași cheie folosind OTP."
      ]
    },
    {
      "cell_type": "markdown",
      "id": "J5XCMP_wSzUB",
      "metadata": {
        "id": "J5XCMP_wSzUB"
      },
      "source": [
        "``` text\n",
        "8841a58f876901c9e195d1e320e0c30a017bec11b0643d30533adcb0475e85a820d64e1a0869963453b490933b7005839f7d8a9571c8a890d75773bc2acc11d5cb3259f0610e95ad6ae1ec8445fc836b661b9c0554494c430210989e4a42ff7b4c19338945a68653c89d783e8460935c93896a3d73d9bc84a8e381951443ab8ada62c5d662d43c0da848c3602d\n",
        "8e14e681d0651cd5fb99d1a87cee972b4436fe19b22c3d1e7a75c2a6155ac4fa06d74e07042889300ab490d226614c818574d99a38d8a899d45478f83cca04818a3549f061079bb139a5f78542eac63873499513460d48534345addf5f42b632475623d14fb49c16c1913d7fca019f59d09b253c3c98a480e1e3829c0942bec2da478bcc6bd42a00e953883a622497\n",
        "e332a0cad0610ad6e691c6b967ad90634c73ec04fe216e586272dcb0474f98b336de5252042895310ab48c93277d4089d061968e76cbe194da0174f97dc512cd8e7b59bf351a8dad39acfdcb04edc62a275695045c4e405f4910bb9e4746f27915541fc653b5c81ec09f7f22ca2d945c9c916a2a7397bc8da4add1990945b7869c4a969a7a9c3f06a846882c6c28d6f9e6255ec96dd0b50e378054b2c89f6ee255312d330508e9cf4d43db\n",
        "8812e8c6842612d5a895c3a87ca28230557fe717fe2b75117571d0ad475985ae3bd04550041d8e2744a5d5ca3c60058e9e6c96db379ceb90df427df9338850c7842948a6701dd0e853b4eb9f45ffc6386e56800c5001095d4544ad934e06f3385d1f25c243a9c653eed23b3983239a589ec23d206891e882a2e3869b1445bbc38907c2d461d42c0dfb57c7207e2adbfeaa2a4bc37ccceb5777cf36f58f8776a75b242a7d105babd2564d959b79b8bd\n",
        "8008ac83d06f079cfbd0dba27aee89365262a904b62d740a3679dab01305cabb3ed30b0a4c2c92270aa581d227660586827dd99e2eddeb8cda5836e835c150d28a3648fe352698e878afe19f0df7882c2b1b9914125e09500c52b08b0b5db63a5e13348952af891d8f9f37229e609254868b26206698bc85a2ad82d3465cbccf9d4396c922d42d01e644cd6e7424ccb7b12c518d6d9faf166fc538bacc947fb149773f7c444ae7c95609959776b9e028502e45e0f6186c4fa51f4c80834f373d1f0b6130b770b6e1ce87\n",
        "9603efdd952614d4e69ed4ed66af95260171e61cba687b0a797795a4154893fa33cc0b094125977b0a8f9ac673745782d074968c76d3e6d8d14e7af8628438c0833a45b1351b9bbd6daef69849be9f2e6653dc4042425b425810a99e474bb7325b0566c048e79c1bcad23f308725dd1db9c52769689ca480a4ad96d41f58a786974a8c942ebd7904e407db2b632f99eea9361fd976d2a25771c574ab81\n",
        "8907a18f9d671a9bfa95c5a86aabcf634072fc50b1686f177778d4e3174583b433910b2e4820953415f6a5df3a7b44c7936dd9983383a8bbc34c36ff288413c4c77b4ea5350c9be86db3fd8910f7836a277a9101544c4411455ead9a474fa075153e27c006aa891a8f803d218f24941d93976a3b7398aa8deda29895481793c58f46c2d66bd43f1afd49cb2f606bc9f2e6255ad87cdeb4036bc138abcad76ead5b232e3d446ee2cf190c8d9b76a8b37b5e7c0bf6b71d7d42a50105c1964739224a1230\n",
        "960ea9dbd04e169bec9fd0be2ea790635263fb00ac216e11787d9bed47618ffa35d65d1b57699a3b45a29dd62135428e966cd8db14c9fcd8c2497fef7dc319c79f7b44a3350b97ae7fa4ea8e0beac865274c9801410d6e5e4810be965d4fa07b5c0566e14faa9b16c3947671be28941db88d393d3cb1a181bea69d924654bdcb9f58c2ce61d43407e1498827636bcdffa3634cda76d6ab127d8068badd8363ec\n",
        "b952fa8f836e1cccfbd0c0bd2ebd8c635925bb50bf3a78587c6fc6b74768b9991bf60b1d4c28893449a290c120355688d074908f33cee994da5836e835c150d29f2944be724f86fc2be1f19845f0893f27499117154f50454910bf90590ae17b461966c543b3cf008f95377188219256d083242d3c95a783a6e390804658a7d4da588adf62983d07ec42882f6a2ad0f9e8\n",
        "a20cbb9f953f1083e283dfba3afbcf6e142fff1aa964304c606edffa574286f7608248121622916118e28580637348cb982dc9936581bd8edb0d31ff2ec2038cdf37168b385bceba2ab5fb9e48f9952c3c57833d120d6a6375608db07469871d4e3823df43b5bd00cabd16149e299c58a0a30e2672b4bd80b9aa8198037ab7d5894a85df7dd57f15\n",
        "```"
      ]
    },
    {
      "cell_type": "markdown",
      "id": "e1a8b3c4",
      "metadata": {
        "id": "e1a8b3c4"
      },
      "source": [
        "\n",
        "### Hints\n",
        "\n",
        "-   Ce se întâmplă dacă faceți XOR între un caracter \\[a-z\\] cu\n",
        "    caracterul ' ' (spațiu)? Verificați de asemenea pentru \\[A-Z\\].\n",
        "-   Nu puteți scrie un algoritm perfect care să rezolve problema din\n",
        "    prima încercare, cel mai probabil va trebui să ghiciți. De ce?\n",
        "-   Provocarea este interesantă, dar poate deveni muncitorească. Din\n",
        "    fericire pentru noi, există o implementare open source care poate fi\n",
        "    găsită [aici](https://github.com/cosminacho/MTP). Vedeți mai jos cum\n",
        "    poate fi rulat. Acest tool se folosește de observațiile de mai sus\n",
        "    pentru a [recupera câteva\n",
        "    litere](https://github.com/cosminacho/MTP/blob/master/manytime/analysis.py#L34-L55)\n",
        "    din cheie. Posibil ca nu toate literele deja existente să fie puse\n",
        "    corect.\n",
        "\n",
        "### Cum se rulează\n",
        "\n",
        "Pentru a rula utilitarul, trebuie să folosiți un sistem de operare\n",
        "unix-like (Linux, OSX, Cygwin). Pe Windows puteți să activați WSL\n",
        "(Windows Linux Subsystem) cum este detaliat\n",
        "[aici](https://docs.microsoft.com/en-us/windows/wsl/install-win10):\n",
        "\n",
        "- Căutați în bara de căutare din Windows \"Turn Windows features on or off\"\n",
        "- Activați \"Containers\" și \"Windows Subsystem for Linux\"\n",
        "- Restartați sistemul și instalați Ubuntu din [Windows Store](https://www.microsoft.com/store/productId/9NBLGGH4MSV6)\n",
        "- Deschideți un terminal (de exemplu, Command Prompt, PowerShell, [Windows Terminal](https://www.microsoft.com/store/productId/9n0dx20hk701)) și rulați \"ubuntu\"\n",
        "- Așteptați ca instalarea să se termine și nu uitați să rulați `sudo apt update` și `sudo apt upgrade`\n",
        "\n",
        "Rulare:\n",
        "\n",
        "1.  Verificați că aveți instalat `python3`, `pip` (python package manager) și `git`\n",
        "2.  Rulați:\n",
        "\n",
        "``` shell\n",
        "pip install urwid  # OR pip3 install urwid\n",
        "git clone https://github.com/cosminacho/MTP.git\n",
        "cd MTP\n",
        "python mtp.py <ciphertexts filename>  # OR python3 mtp.py <ciphertexts filename>\n",
        "```\n",
        "\n",
        "> `<ciphertexts filename>` trebuie să conțină cele 10 texte cifrate de mai sus.\n",
        "\n",
        "> În cazul în care programul trebuie să afișeze caractere\n",
        "non-printabile, posibil să crape. Există un\n",
        "[issue](https://github.com/CameronLonsdale/MTP/issues/14) deschis pe\n",
        "GitHub în acest sens, dar nu a fost rezolvat încă.\n"
      ]
    }
  ],
  "metadata": {
    "colab": {
      "private_outputs": true,
      "provenance": []
    },
    "interpreter": {
      "hash": "333b50860ab9178f76e69caacf27dc300f5f052c65712bf7933a7fbb4a05268d"
    },
    "kernelspec": {
      "display_name": "Python 3.8.11 ('labsIC')",
      "language": "python",
      "name": "python3"
    },
    "language_info": {
      "codemirror_mode": {
        "name": "ipython",
        "version": 3
      },
      "file_extension": ".py",
      "mimetype": "text/x-python",
      "name": "python",
      "nbconvert_exporter": "python",
      "pygments_lexer": "ipython3",
      "version": "3.11.11"
    }
  },
  "nbformat": 4,
  "nbformat_minor": 5
}